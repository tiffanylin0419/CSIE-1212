{
 "cells": [
  {
   "cell_type": "code",
   "execution_count": 10,
   "metadata": {},
   "outputs": [],
   "source": [
    "\n",
    "fp1= open(\"test36all.txt\",\"r\")\n",
    "lines1 = []\n",
    "lines1 = fp1.readlines()\n",
    "fp1.close()\n",
    "#for i in range(min(len(lines1),len(lines2))):\n",
    "fp= open(\"test36.txt\",\"w+\")\n",
    "fp.write(\"7 420\\n\")  \n",
    "\n",
    "for i in range(420):\n",
    "    fp.write(lines1[i+1])  \n",
    "#print(str(filenum)+\"good\\n\")\n",
    "fp.close()"
   ]
  }
 ],
 "metadata": {
  "interpreter": {
   "hash": "40d3a090f54c6569ab1632332b64b2c03c39dcf918b08424e98f38b5ae0af88f"
  },
  "kernelspec": {
   "display_name": "Python 3.8.8 ('base')",
   "language": "python",
   "name": "python3"
  },
  "language_info": {
   "codemirror_mode": {
    "name": "ipython",
    "version": 3
   },
   "file_extension": ".py",
   "mimetype": "text/x-python",
   "name": "python",
   "nbconvert_exporter": "python",
   "pygments_lexer": "ipython3",
   "version": "3.8.8"
  },
  "orig_nbformat": 4
 },
 "nbformat": 4,
 "nbformat_minor": 2
}
