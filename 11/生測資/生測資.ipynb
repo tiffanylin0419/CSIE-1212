{
 "cells": [
  {
   "cell_type": "code",
   "execution_count": 36,
   "metadata": {},
   "outputs": [],
   "source": [
    "import random\n",
    "import numpy as np\n",
    "aa=10000\n",
    "bb=10000\n",
    "for filenum in range(1, 10):\n",
    "    fp= open(\"test\"+str(filenum)+\".txt\",\"w+\")\n",
    "    random.seed(filenum+0)\n",
    "    N=random.randint(1,aa) \n",
    "    M=random.randint(1,aa)\n",
    "    fp.write(str(N)+\" \"+str(M)+\"\\n\")\n",
    "    arr=np.random.randint(bb, size=N)\n",
    "    for i in arr:\n",
    "        fp.write(str(i)+\" \")\n",
    "    fp.write(\"\\n\")\n",
    "    for i in range(0, M):\n",
    "        condition = random.randint(1,4) \n",
    "        if condition==1:\n",
    "            a=random.randint(0,N) \n",
    "            b=random.randint(1,N) \n",
    "            fp.write(\"1 \"+str(a)+\" \"+str(b)+\"\\n\")\n",
    "            N=N+1\n",
    "        elif condition==2:\n",
    "            a=random.randint(1,N) \n",
    "            fp.write(\"2 \"+str(a)+\"\\n\")\n",
    "            N=N-1\n",
    "        \n",
    "        elif condition==3:\n",
    "            a=random.randint(1,N) \n",
    "            b=random.randint(1,N) \n",
    "            k=random.randint(1,bb) \n",
    "            if a<b:\n",
    "                fp.write(\"5 \"+str(a)+\" \"+str(b)+\" \"+str(k)+\"\\n\")\n",
    "            else:\n",
    "                fp.write(\"5 \"+str(b)+\" \"+str(a)+\" \"+str(k)+\"\\n\")\n",
    "        elif condition==4:\n",
    "            a=random.randint(1,N) \n",
    "            b=random.randint(1,N) \n",
    "            if a<b:\n",
    "                fp.write(\"6 \"+str(a)+\" \"+str(b)+\"\\n\")\n",
    "            else:\n",
    "                fp.write(\"6 \"+str(b)+\" \"+str(a)+\"\\n\")\n",
    "    fp.close()"
   ]
  },
  {
   "cell_type": "code",
   "execution_count": 23,
   "metadata": {},
   "outputs": [
    {
     "data": {
      "text/plain": [
       "'\\n        elif condition==3:\\n            a=random.randint(1,N) \\n            b=random.randint(1,N) \\n            if a<b:\\n                fp.write(\"3 \"+str(a)+\" \"+str(b)+\"\\n\")\\n            else:\\n                fp.write(\"3 \"+str(b)+\" \"+str(a)+\"\\n\")\\n        elif condition==4:#?\\n            arr=np.random.randint(N, size=4)\\n            for i in range(len(arr)):\\n                for j in range(i+1,len(arr)):\\n                    if arr[i]>arr[j]:\\n                        arr[i],arr[j]=arr[j],arr[i]\\n            fp.write(\"4 \"+str(arr[0])+\" \"+str(arr[1])+\" \"+str(arr[2])+\" \"+str(arr[3])+\"\\n\")\\n        '"
      ]
     },
     "execution_count": 23,
     "metadata": {},
     "output_type": "execute_result"
    }
   ],
   "source": [
    "'''\n",
    "        elif condition==3:\n",
    "            a=random.randint(1,N) \n",
    "            b=random.randint(1,N) \n",
    "            if a<b:\n",
    "                fp.write(\"3 \"+str(a)+\" \"+str(b)+\"\\n\")\n",
    "            else:\n",
    "                fp.write(\"3 \"+str(b)+\" \"+str(a)+\"\\n\")\n",
    "        elif condition==4:#?\n",
    "            arr=np.random.randint(N, size=4)\n",
    "            for i in range(len(arr)):\n",
    "                for j in range(i+1,len(arr)):\n",
    "                    if arr[i]>arr[j]:\n",
    "                        arr[i],arr[j]=arr[j],arr[i]\n",
    "            fp.write(\"4 \"+str(arr[0])+\" \"+str(arr[1])+\" \"+str(arr[2])+\" \"+str(arr[3])+\"\\n\")\n",
    "        '''"
   ]
  },
  {
   "cell_type": "code",
   "execution_count": 40,
   "metadata": {},
   "outputs": [],
   "source": [
    "filenum=5\n",
    "fp1= open(\"1out\"+str(filenum)+\".txt\",\"r\")\n",
    "lines1 = []\n",
    "lines1 = fp1.readlines()\n",
    "fp1.close()\n",
    "fp2= open(\"2out\"+str(filenum)+\".txt\",\"r\")\n",
    "lines2 = []\n",
    "lines2 = fp2.readlines()\n",
    "fp2.close()\n",
    "#for i in range(min(len(lines1),len(lines2))):\n",
    "if len(lines1)!=len(lines2):\n",
    "    print(\"not same len\")\n",
    "for i in range(len(lines1)):\n",
    "    if(lines1[i]!=lines2[i]):\n",
    "        print(str(filenum)+\"bad at line\"+str(i+1))\n",
    "        break\n",
    "    #print(str(filenum)+\"good\\n\")\n"
   ]
  }
 ],
 "metadata": {
  "interpreter": {
   "hash": "40d3a090f54c6569ab1632332b64b2c03c39dcf918b08424e98f38b5ae0af88f"
  },
  "kernelspec": {
   "display_name": "Python 3.8.8 ('base')",
   "language": "python",
   "name": "python3"
  },
  "language_info": {
   "codemirror_mode": {
    "name": "ipython",
    "version": 3
   },
   "file_extension": ".py",
   "mimetype": "text/x-python",
   "name": "python",
   "nbconvert_exporter": "python",
   "pygments_lexer": "ipython3",
   "version": "3.8.8"
  },
  "orig_nbformat": 4
 },
 "nbformat": 4,
 "nbformat_minor": 2
}
