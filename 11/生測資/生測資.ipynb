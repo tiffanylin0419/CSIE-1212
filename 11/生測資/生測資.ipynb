{
 "cells": [
  {
   "cell_type": "code",
   "execution_count": 7,
   "metadata": {},
   "outputs": [],
   "source": [
    "import random\n",
    "import numpy as np\n",
    "for filenum in range(1, 10):\n",
    "    fp= open(\"test\"+str(filenum)+\".txt\",\"w+\")\n",
    "    random.seed(filenum+0)\n",
    "    N=random.randint(1,100000) \n",
    "    M=random.randint(1,100000)\n",
    "    fp.write(str(N)+\" \"+str(M)+\"\\n\")\n",
    "    arr=np.random.randint(1000000000, size=N)\n",
    "    for i in arr:\n",
    "        fp.write(str(i)+\" \")\n",
    "    fp.write(\"\\n\")\n",
    "    for i in range(0, M):\n",
    "        condition = random.randint(1,2) \n",
    "        #if condition==1:\n",
    "            #a=random.randint(0,N) \n",
    "            #b=random.randint(1,N) \n",
    "            #fp.write(\"1 \"+str(a)+\" \"+str(b)+\"\\n\")\n",
    "            #N=N+1\n",
    "\n",
    "        #el\n",
    "        if condition==2:\n",
    "            a=random.randint(1,N) \n",
    "            b=random.randint(1,N) \n",
    "            if a<b:\n",
    "                fp.write(\"6 \"+str(a)+\" \"+str(b)+\"\\n\")\n",
    "            else:\n",
    "                fp.write(\"6 \"+str(b)+\" \"+str(a)+\"\\n\")\n",
    "    fp.close()"
   ]
  },
  {
   "cell_type": "code",
   "execution_count": 1,
   "metadata": {},
   "outputs": [],
   "source": [
    "for filenum in range(0, 100):\n",
    "    fp1= open(\"1out\"+str(filenum)+\".txt\",\"r\")\n",
    "    lines1 = []\n",
    "    lines1 = fp1.readlines()\n",
    "    fp1.close()\n",
    "    fp2= open(\"2out\"+str(filenum)+\".txt\",\"r\")\n",
    "    lines2 = []\n",
    "    lines2 = fp2.readlines()\n",
    "    fp2.close()\n",
    "    #for i in range(min(len(lines1),len(lines2))):\n",
    "    for i in range(len(lines1)):\n",
    "        if(lines1[i]!=lines2[i]):\n",
    "            print(str(filenum)+\"bad at line\"+str(i))\n",
    "            break\n",
    "    #print(str(filenum)+\"good\\n\")\n"
   ]
  }
 ],
 "metadata": {
  "interpreter": {
   "hash": "40d3a090f54c6569ab1632332b64b2c03c39dcf918b08424e98f38b5ae0af88f"
  },
  "kernelspec": {
   "display_name": "Python 3.8.8 ('base')",
   "language": "python",
   "name": "python3"
  },
  "language_info": {
   "codemirror_mode": {
    "name": "ipython",
    "version": 3
   },
   "file_extension": ".py",
   "mimetype": "text/x-python",
   "name": "python",
   "nbconvert_exporter": "python",
   "pygments_lexer": "ipython3",
   "version": "3.8.8"
  },
  "orig_nbformat": 4
 },
 "nbformat": 4,
 "nbformat_minor": 2
}
